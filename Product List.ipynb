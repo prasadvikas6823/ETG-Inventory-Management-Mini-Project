{
 "cells": [
  {
   "cell_type": "code",
   "execution_count": 5,
   "metadata": {},
   "outputs": [],
   "source": [
    "import json"
   ]
  },
  {
   "cell_type": "code",
   "execution_count": 6,
   "metadata": {},
   "outputs": [],
   "source": [
    "record={\n",
    "       9874501:{\"name\":\"Cashews\" , \"quantity\":\"75gm\" , \"expiry-date\":\"09-02-2022\" , \"price\":129.00 , \"country-of-origin\":\"India\" , \"brand\":\"Molsi\" , \"stock\":35},\n",
    "       9874502:{\"name\":\"Body Lotion\" , \"quantity\":\"400ml\" , \"expiry-date\":\"25-06-2021\" , \"price\":339.00 , \"country-of-origin\":\"India\" , \"brand\":\"Nivea\" , \"stock\":18},\n",
    "       9874503:{\"name\":\"Almonds\" , \"quantity\":\"250gm\" , \"expiry-date\":\"20-09-2023\" , \"price\":561.00 , \"country-of-origin\":\"New Zealand\" , \"brand\":\"Eighty7\" , \"stock\":22},\n",
    "       9874504:{\"name\":\"Berries\" , \"quantity\":\"200gm\" , \"expiry-date\":\"05-01-2022\" , \"price\":241.00 , \"country-of-origin\":\"Algeria\" , \"brand\":\"Happilo\" , \"stock\":14},\n",
    "       9874505:{\"name\":\"Sugar\" , \"quantity\":\"1000gm\" , \"expiry-date\":\"26-04-2023\" , \"price\":60.00 , \"country-of-origin\":\"India\" , \"brand\":\"Madhur\" , \"stock\":20},\n",
    "       9874506:{\"name\":\"Almonds hair Oil\" , \"quantity\":\"650ml\" , \"expiry-date\":\"14-12-2025\" , \"price\":306.00 , \"country-of-origin\":\"India\" , \"brand\":\"Bajaj\" , \"stock\":25},\n",
    "       9874507:{\"name\":\"Milkibar Chocolate\" , \"quantity\":\"25gm\" , \"expiry-date\":\"14-11-2023\" , \"price\":12.00 , \"country-of-origin\":\"India\" , \"brand\":\"Nestle\" , \"stock\":30},\n",
    "       9874508:{\"name\":\"Walnuts\" , \"quantity\":\"250gm\" , \"expiry-date\":\"14-01-2024\" , \"price\":257.00 , \"country-of-origin\":\"Bolivia\" , \"brand\":\"Nutraj\" , \"stock\":10},\n",
    "       9874509:{\"name\":\"Refined Oil\" , \"quantity\":\"910ml\" , \"expiry-date\":\"13-05-2024\" , \"price\":153 , \"country-of-origin\":\"India\" , \"brand\":\"Fortune\" , \"stock\":50},\n",
    "       9874510:{\"name\":\"Raisins\" , \"quantity\":\"100gm\" , \"expiry-date\":\"16-06-2024\" , \"price\":70.00 , \"country-of-origin\":\"Algeria\" , \"brand\":\"Happilo\" , \"stock\":47},\n",
    "       9874511:{\"name\":\"Amla Oil\" , \"quantity\":\"450ml\" , \"expiry-date\":\"30-12-2023\" , \"price\":182.00 , \"country-of-origin\":\"India\" , \"brand\":\"Dabur\" , \"stock\":30},\n",
    "       9874512:{\"name\":\"Mustard Oil\" , \"quantity\":\"910ml\" , \"expiry-date\":\"13-08-2024\" , \"price\":175.00 , \"country-of-origin\":\"India\" , \"brand\":\"Patanjali\" , \"stock\":60},\n",
    "       9874513:{\"name\":\"Men Face Wash\" , \"quantity\":\"100gm\" , \"expiry-date\":\"25-02-2025\" , \"price\":139.00 , \"country-of-origin\":\"Inida\" , \"brand\":\"Garnier\" , \"stock\":52},\n",
    "       9874514:{\"name\":\"Women Hair Color\" , \"quantity\":\"100gm\" , \"expiry-date\":\"09-12-2021\" , \"price\":526.00 , \"country-of-origin\":\"Paris\" , \"brand\":\"Loreal\" , \"stock\":48},\n",
    "       9874515:{\"name\":\"Shampoo\" , \"quantity\":\"650ml\" , \"expiry-date\":\"26-05-2024\" , \"price\":289.00 , \"country-of-origin\":\"India\" , \"brand\":\"Clinic Plus\" , \"stock\":18},\n",
    "       9874516:{\"name\":\"Cold Drink Can\" , \"quantity\":\"300ml\" , \"expiry-date\":\"15-10-2022\" , \"price\":33.00 , \"country-of-origin\":\"Finland\" , \"brand\":\"Thumps Up\" , \"stock\":25},\n",
    "       9874517:{\"name\":\"Room Fragrance\" , \"quantity\":\"150ml\" , \"expiry-date\":\"13-03-2025\" , \"price\":108.00 , \"country-of-origin\":\"India\" , \"brand\":\"Odonil\" , \"stock\":27},\n",
    "       9874518:{\"name\":\"Eclairs Chocolate Candy\" , \"quantity\":\"400gm\" , \"expiry-date\":\"26-01-2024\" , \"price\":56.00 , \"country-of-origin\":\"Inida\" , \"brand\":\"Dukes\" , \"stock\":49},\n",
    "       9874519:{\"name\":\"Vanilla Nutrition Drink\" , \"quantity\":\"200gm\" , \"expiry-date\":\"30-06-2024\" , \"price\":280.00 , \"country-of-origin\":\"Indonesia\" , \"brand\":\"Ensure\" , \"stock\":55},\n",
    "       9874520:{\"name\":\"Potato Chips\" , \"quantity\":\"115gm\" , \"expiry-date\":\"12-12-2022\" , \"price\":40.00 , \"country-of-origin\":\"Laos\" , \"brand\":\"Lays\" , \"stock\":19},\n",
    "       9874521:{\"name\":\"Toilet Cleaner\" , \"quantity\":\"1000ml\" , \"expiry-date\":\"16-06-2024\" , \"price\":134.00 , \"country-of-origin\":\"India\" , \"brand\":\"Harpic\" , \"stock\":42},\n",
    "       9874522:{\"name\":\"Salt\" , \"quantity\":\"100gm\" , \"expiry-date\":\"15-03-2026\" , \"price\":22.00 , \"country-of-origin\":\"India\" , \"brand\":\"Tata\" , \"stock\":37},\n",
    "       9874523:{\"name\":\"Diapers\" , \"quantity\":\"9-14kg\" , \"expiry-date\":\"20-02-2025\" , \"price\":18.00 , \"country-of-origin\":\"India\" , \"brand\":\"MamyPoko\" , \"stock\":32},\n",
    "       9874524:{\"name\":\"Sooji Rusk\" , \"quantity\":\"273gm\" , \"expiry-date\":\"12-12-2021\" , \"price\":52.00 , \"country-of-origin\":\"Peru\" , \"brand\":\"Britania\" , \"stock\":60},\n",
    "       9874525:{\"name\":\"Bournvita\" , \"quantity\":\"750gm\" , \"expiry-date\":\"01-09-2023\" , \"price\":244.00 , \"country-of-origin\":\"Yemen\" , \"brand\":\"Cadbury\" , \"stock\":58},\n",
    "       9874526:{\"name\":\"Shave Foam\" , \"quantity\":\"418gm\" , \"expiry-date\":\"31-05-2024\" , \"price\":172.00 , \"country-of-origin\":\"Austria\" , \"brand\":\"Gillette\" , \"stock\":25},\n",
    "       9874527:{\"name\":\"Men Perfume\" , \"quantity\":\"120ml\" , \"expiry-date\":\"25-08-2024\" , \"price\":302.00 , \"country-of-origin\":\"India\" , \"brand\":\"Envy\" , \"stock\":47},\n",
    "       9874528:{\"name\":\"Detergent Powder\" , \"quantity\":\"4kg\" , \"expiry-date\":\"15-06-2025\" , \"price\":374.00 , \"country-of-origin\":\"India\" , \"brand\":\"Surf Excel\" , \"stock\":22},\n",
    "       9874529:{\"name\":\"Mosquito Vaporiser Refill\" , \"quantity\":\"45ml\" , \"expiry-date\":\"30-09-2024\" , \"price\":72.00 , \"country-of-origin\":\"India\" , \"brand\":\"Good Knight\" , \"stock\":48},\n",
    "       9874530:{\"name\":\"Tea Leaf\" , \"quantity\":\"250gm\" , \"expiry-date\":\"16-04-2023\" , \"price\":113.00 , \"country-of-origin\":\"India\" , \"brand\":\"Tata Gold\" , \"stock\":31}\n",
    "       }"
   ]
  },
  {
   "cell_type": "code",
   "execution_count": 9,
   "metadata": {},
   "outputs": [],
   "source": [
    "js=json.dumps(record)"
   ]
  },
  {
   "cell_type": "code",
   "execution_count": 10,
   "metadata": {},
   "outputs": [],
   "source": [
    "file=open(\"records.json\",\"w\")\n",
    "file.write(js)\n",
    "file.close()"
   ]
  }
 ],
 "metadata": {
  "kernelspec": {
   "display_name": "Python 3",
   "language": "python",
   "name": "python3"
  },
  "language_info": {
   "codemirror_mode": {
    "name": "ipython",
    "version": 3
   },
   "file_extension": ".py",
   "mimetype": "text/x-python",
   "name": "python",
   "nbconvert_exporter": "python",
   "pygments_lexer": "ipython3",
   "version": "3.8.3"
  }
 },
 "nbformat": 4,
 "nbformat_minor": 4
}
